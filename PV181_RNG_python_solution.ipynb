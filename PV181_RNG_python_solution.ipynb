{
 "cells": [
  {
   "cell_type": "markdown",
   "id": "37642144",
   "metadata": {},
   "source": [
    "# PV181 Seminar 01 - RNG (python)\n",
    "\n",
    "This notebook contains python code for several tasks treated in this seminar. "
   ]
  },
  {
   "cell_type": "markdown",
   "id": "ed5aaa07",
   "metadata": {},
   "source": [
    "# PRNG "
   ]
  },
  {
   "cell_type": "markdown",
   "id": "683a1b1d",
   "metadata": {},
   "source": [
    "# Task 1: determinsm of PRNG\n",
    "\n",
    "We will work with PRNG implemented in [random](https://docs.python.org/3/library/random.html) package. See first 4 methods (`seed, setstate, getstate, randbytes`) in the documentation. \n",
    " 1. Import **random** package.\n",
    " 2. Generate (and print) 10 random bytes.  \n",
    " 3. Print out bytes in hexadecimal form (use `.hex()` method of bytes). Execute cell 2x - use Run or Ctrl+Enter. \n",
    " 4. Seed the generator so that it will produce 10 bytes '73a9bef499bbf4dca4f2' (try different seeds 0, 1, 2). Execute cell 2x to check that result is the same. \n",
    " 4. Get state of the PRNG right after the seeding (before generation of bytes).  \n",
    " 5. Set the state of PRNG and generate the same result as in step 4. "
   ]
  },
  {
   "cell_type": "code",
   "execution_count": 8,
   "id": "22d5a29d",
   "metadata": {},
   "outputs": [
    {
     "name": "stdout",
     "output_type": "stream",
     "text": [
      "b'\\xc8\\xaf[\\xd9\\x9f&z\\x0er\\x17'\n",
      "c8af5bd99f267a0e7217\n",
      "73a9bef499bbf4dca4f2\n",
      "73a9bef499bbf4dca4f2\n"
     ]
    }
   ],
   "source": [
    "import random \n",
    "rnd_bytes = random.randbytes(10)\n",
    "print(rnd_bytes)\n",
    "print(rnd_bytes.hex())\n",
    "\n",
    "random.seed(2)\n",
    "state = random.getstate()\n",
    "print(random.randbytes(10).hex())\n",
    "\n",
    "# print(state)\n",
    "random.setstate(state)\n",
    "print(random.randbytes(10).hex())"
   ]
  },
  {
   "cell_type": "markdown",
   "id": "8c9bf029",
   "metadata": {},
   "source": [
    "# LCG\n",
    "Standard PRNG functions are very fast but also very weak. \n",
    " * In python, PRNG [implemented](https://svn.python.org/projects/python/branches/release32-maint/Lib/random.py) in random module is [Mersenne Twister](https://en.wikipedia.org/wiki/Mersenne_Twister) with state formed by 625 32-bit integers. \n",
    " * In other languages (C, Java, Rust) LCG is typically used. Internal state of LCG is **single** value (state) updated iterativelly as $$state = (state*a+c) \\pmod m.$$ Overview of constants `a,c,m` used by the LCG for several languages can be found [here](https://en.wikipedia.org/wiki/Linear_congruential_generator).  \n",
    " <span style=\"color:red\">In LCG, state (new or old) is typically returned as generated random value!!</span>"
   ]
  },
  {
   "cell_type": "markdown",
   "id": "80a221c3",
   "metadata": {},
   "source": [
    "# Task 2: ANSI C \n",
    "Following code was taken from [ANSI C standard](http://www.open-std.org/jtc1/sc22/wg14/www/docs/n1256.pdf#page=324) and simplified to other portable implementation (according to implementation of [rand()](https://code.woboq.org/userspace/glibc/stdlib/random_r.c.html#__random_r)) of seeding function `srand` and function for generation `rand()`. \n",
    "\n",
    "```\n",
    "static unsigned long int next = 1;\n",
    "\n",
    "void srand(unsigned int seed)\n",
    "{\n",
    "    next = seed;\n",
    "}\n",
    "\n",
    "int rand(void) // RAND_MAX assumed to be 32767\n",
    "{\n",
    "    return next = (next * 1103515245 + 12345) & 0x7fffffff;\n",
    "}\n",
    "```\n",
    " 1. Implement pythonic version ANSI C standard PRNG - implement it as `class PRNG` below. Use constants $a=1103515245, c=12345, m=2^{31}$ from [LCG wikipedia](https://en.wikipedia.org/wiki/Linear_congruential_generator).  \n",
    " 2. Generate 10 values with LCG seeded by 1.  \n",
    " 3. Generator ANSI C generated sequence $12345, 1406932606$. Find next two values  $6545..., 1449...$.  \n",
    " Seed the generator and simply continue in generation. \n",
    " 4. Find previous two values. Seed the generator with the \"oldest\" and check that new generated value is equal to 0.    \n",
    "  - New state is computed from previous by: $$new = old*a+c \\pmod m$$ \n",
    "  - How $old$ value can by computed from new one? \n",
    "  - Compute previous one using  division  $/a \\pmod m$ is equivalent to  `*pow(a,-1,m)`.\n",
    " \n",
    " [comment $$old = (new-c)/a \\pmod m$$]::\n"
   ]
  },
  {
   "cell_type": "code",
   "execution_count": 15,
   "id": "8fd76667",
   "metadata": {},
   "outputs": [
    {
     "name": "stdout",
     "output_type": "stream",
     "text": [
      "[2088216195, 0, 12345, 1406932606, 654583775, 1449466924]\n"
     ]
    }
   ],
   "source": [
    "class PRNG:\n",
    "    def __init__(self):\n",
    "        self.srand(1)\n",
    "\n",
    "    def srand(self, seed):\n",
    "        self.state = seed\n",
    "\n",
    "    def rand(self):\n",
    "        self.state = (self.state * 1103515245 + 12345) % 2**31\n",
    "        return self.state\n",
    "\n",
    "ansi_rand = PRNG()\n",
    "ansi_rand.srand(0)\n",
    "rnd_values = [ansi_rand.rand() for i in range (4)]\n",
    "\n",
    "old = ((rnd_values[0] - 12345)*pow(1103515245, -1, 2**31))%2**31 \n",
    "rnd_values = [old] + rnd_values\n",
    "old = ((rnd_values[0] - 12345)*pow(1103515245, -1, 2**31))%2**31 \n",
    "rnd_values = [old] + rnd_values\n",
    "print(rnd_values)\n",
    "ansi_rand.srand(2088216195)\n"
   ]
  },
  {
   "cell_type": "markdown",
   "id": "503d4839",
   "metadata": {},
   "source": [
    "# Task 3: hashing, test vectors  \n",
    "Verify that hash functions functions are implemented correctly. There are examples of input-output pairs (called test vectors) computed by reference (original) implementation. Two test vectors for SHA1, SHA256 hash functions and empty message are following:\n",
    " * SHA1(\"\")=da39a3ee5e6b4b0d3255bfef95601890afd80709.\n",
    " * SHA256(\"\")=e3b0c44298fc1c149afbf4c8996fb92427ae41e4649b934ca495991b7852b855.\n",
    " 1. Check test correctness of implementation.  \n",
    " <span style=\"color:red\">Implementations of both hash functions expect bytes as input not string!</span> See `Bytes Objects` in python [Built-in Types](https://docs.python.org/3/library/stdtypes.html).\n",
    " 2. Google both hashes. Find (google, check the standard) other test vectors .  "
   ]
  },
  {
   "cell_type": "code",
   "execution_count": 16,
   "id": "72213825",
   "metadata": {},
   "outputs": [
    {
     "name": "stdout",
     "output_type": "stream",
     "text": [
      "da39a3ee5e6b4b0d3255bfef95601890afd80709\n",
      "e3b0c44298fc1c149afbf4c8996fb92427ae41e4649b934ca495991b7852b855\n"
     ]
    }
   ],
   "source": [
    "from cryptography.hazmat.primitives import hashes\n",
    "\n",
    "def SHA1(message: bytes):\n",
    "    digest = hashes.Hash(hashes.SHA1())\n",
    "    digest.update(message)\n",
    "    return digest.finalize() \n",
    "\n",
    "def SHA256(message: bytes):\n",
    "    digest = hashes.Hash(hashes.SHA256())\n",
    "    digest.update(message)\n",
    "    return digest.finalize() \n",
    "\n",
    "print(SHA1(b\"\").hex())\n",
    "print(SHA256(b\"\").hex())"
   ]
  },
  {
   "cell_type": "markdown",
   "id": "adba5339",
   "metadata": {},
   "source": [
    "# Task 4: CSPRNG\n",
    "Hash functions `SHA1, SHA256` can be used as one-way functions (hard to invert) to create CSPRNG. One-wayness of SHA1 doesn't allow to compute previous state of RNG. On the other hand current implementation (below) returns some of the next states of CSPRNG as generated random value (`SHA1(self.state)` is returned and for update of `self.state`).     \n",
    " 1. `csprng` generated three blocks (`fbfb5caad5c041b8470733a232858348e385e108`, `88c3f9b87bdd514831223607f0bdfb2d2d76a68f`, `cc1909ab7e31f8add561cd39929744f5ff3fcdbb`) in a row. Seed the generator and find next block `4b98cd1ccc618d1dbdbbea7c6f2a2d8053f47f8a`. \n",
    " 2. Change the implementation so that attack is not longer possible (use other hash function). "
   ]
  },
  {
   "cell_type": "code",
   "execution_count": 18,
   "id": "47aff2b1",
   "metadata": {},
   "outputs": [
    {
     "name": "stdout",
     "output_type": "stream",
     "text": [
      "fbfb5caad5c041b8470733a232858348e385e108\n",
      "88c3f9b87bdd514831223607f0bdfb2d2d76a68f\n",
      "cc1909ab7e31f8add561cd39929744f5ff3fcdbb\n",
      "4b98cd1ccc618d1dbdbbea7c6f2a2d8053f47f8a\n",
      "4b98cd1ccc618d1dbdbbea7c6f2a2d8053f47f8a\n"
     ]
    }
   ],
   "source": [
    "class CSPRNG:\n",
    "    def __init__(self, state_size = 2):\n",
    "        self.srand(b\"1a\")\n",
    "\n",
    "    def srand(self, seed: bytes):\n",
    "        self.state = seed\n",
    "    def rand(self):\n",
    "        self.state = SHA1(self.state)    #replace by next line\n",
    "        #self.state = SHA256(self.state)  \n",
    "        return SHA1(self.state)\n",
    "    \n",
    "csprng = CSPRNG()\n",
    "\n",
    "for i in range(4):\n",
    "    print(csprng.rand().hex())\n",
    "\n",
    "seed = bytes.fromhex(\"88c3f9b87bdd514831223607f0bdfb2d2d76a68f\")\n",
    "csprng.srand(seed)\n",
    "print(csprng.rand().hex())"
   ]
  },
  {
   "cell_type": "markdown",
   "id": "e0e4ebff",
   "metadata": {},
   "source": [
    "# TRNG"
   ]
  },
  {
   "cell_type": "markdown",
   "id": "7c99058c",
   "metadata": {},
   "source": [
    "# Sources: dev/random, dev/urandom\n",
    "These two files provide secure way to generate random bytes! \n",
    "Reading from dev/urandom can by done using following functions: "
   ]
  },
  {
   "cell_type": "code",
   "execution_count": 19,
   "id": "64d387df",
   "metadata": {},
   "outputs": [
    {
     "data": {
      "text/plain": [
       "b'\\xc2\\xdf\\x92\\xd6oG\\xe8\\xb3{x'"
      ]
     },
     "execution_count": 19,
     "metadata": {},
     "output_type": "execute_result"
    }
   ],
   "source": [
    "import os\n",
    "import secrets \n",
    "os.urandom(10)\n",
    "secrets.token_bytes(10)\n",
    "os.getrandom(10)"
   ]
  },
  {
   "cell_type": "markdown",
   "id": "b006f3c7",
   "metadata": {},
   "source": [
    "Files **dev/random**, **dev/urandom** can be also opened as binary file for reading.  \n",
    "Then you can read specified number of bytes e.g. 10. "
   ]
  },
  {
   "cell_type": "code",
   "execution_count": 52,
   "id": "3ca16f60",
   "metadata": {},
   "outputs": [
    {
     "data": {
      "text/plain": [
       "b'\\xc1\\xab\\xce\\x9e\\xe7\\xb1n\\xa5\\x15\\x06'"
      ]
     },
     "execution_count": 52,
     "metadata": {},
     "output_type": "execute_result"
    }
   ],
   "source": [
    "random_source = open(\"/dev/random\", \"rb\")\n",
    "random_source.read(10)"
   ]
  },
  {
   "cell_type": "markdown",
   "id": "a9389126",
   "metadata": {},
   "source": [
    "# Task 5: Testing correlation of bits\n",
    " 1. Implement function `histogram(rnd_bytes, i, j)` that computes histogram of combination of bits (`i`-th and `j`-th bits of each byte). The function should return 4 frequencies for all bytes in `rnd_bytes` array. Frequencies will correspond to counts of how many bytes have `i`-th and `j`-th bit equal to combination 00,01,10 or 11.\n"
   ]
  },
  {
   "cell_type": "code",
   "execution_count": 62,
   "id": "bae9d03b",
   "metadata": {},
   "outputs": [],
   "source": [
    "import os\n",
    "def histogram(rnd_bytes, i, j):\n",
    "    hist = {0:0, (1 << i):0, (1 << j):0, (1 << i) + (1 << j): 0}\n",
    "    mask = (1 << i) + (1 << j)\n",
    "    for byte in rnd_bytes:\n",
    "        hist[byte & mask] += 1\n",
    "    return hist \n",
    "\n"
   ]
  },
  {
   "cell_type": "markdown",
   "id": "d19362cc",
   "metadata": {},
   "source": [
    " 2. Verify that for arbitrary params `i,j` and size of generated block the frequencies are roughly equal.  "
   ]
  },
  {
   "cell_type": "code",
   "execution_count": 72,
   "id": "0111f6fe",
   "metadata": {},
   "outputs": [
    {
     "data": {
      "text/plain": [
       "{0: 279, 1: 254, 2: 245, 3: 222}"
      ]
     },
     "execution_count": 72,
     "metadata": {},
     "output_type": "execute_result"
    }
   ],
   "source": [
    "rnd_bytes = os.urandom(1000)\n",
    "histogram(rnd_bytes, 0, 1)"
   ]
  },
  {
   "cell_type": "markdown",
   "id": "cc110c98",
   "metadata": {},
   "source": [
    " 3. Generate random bytes using ansi_rand = generate integers, apply modulo, transform to bytes (use `bytes()`).\n",
    " 4. Find params `i,j` where all the frequencies are exacly the same.  \n",
    " <span style=\"color:red\"> Generator with such perfect results is also problematic! </span>   \n",
    " Can we predict some (next) bits with better probability than 50% ?"
   ]
  },
  {
   "cell_type": "code",
   "execution_count": 71,
   "id": "18cf2b40",
   "metadata": {},
   "outputs": [
    {
     "data": {
      "text/plain": [
       "{0: 250, 1: 250, 2: 250, 3: 250}"
      ]
     },
     "execution_count": 71,
     "metadata": {},
     "output_type": "execute_result"
    }
   ],
   "source": [
    "ansi_rand.srand(2)\n",
    "rnd_bytes = bytes([ansi_rand.rand() % 256 for i in range (1000)])\n",
    "histogram(rnd_bytes, 0, 1)"
   ]
  }
 ],
 "metadata": {
  "kernelspec": {
   "display_name": "Python 3 (ipykernel)",
   "language": "python",
   "name": "python3"
  },
  "language_info": {
   "codemirror_mode": {
    "name": "ipython",
    "version": 3
   },
   "file_extension": ".py",
   "mimetype": "text/x-python",
   "name": "python",
   "nbconvert_exporter": "python",
   "pygments_lexer": "ipython3",
   "version": "3.10.4"
  }
 },
 "nbformat": 4,
 "nbformat_minor": 5
}
